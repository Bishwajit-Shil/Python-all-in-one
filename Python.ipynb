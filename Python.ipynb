{
  "nbformat": 4,
  "nbformat_minor": 0,
  "metadata": {
    "colab": {
      "name": "PythonBootcamp.ipynb",
      "provenance": [],
      "collapsed_sections": []
    },
    "kernelspec": {
      "name": "python3",
      "display_name": "Python 3"
    },
    "language_info": {
      "name": "python"
    }
  },
  "cells": [
    {
      "cell_type": "markdown",
      "metadata": {
        "id": "ZDKkIZtpM_mL"
      },
      "source": [
        "##1. ARITHMETIC OPERATION"
      ]
    },
    {
      "cell_type": "markdown",
      "metadata": {
        "id": "sufuTFEnNg_Z"
      },
      "source": [
        "###Simple Arithmetic"
      ]
    },
    {
      "cell_type": "code",
      "metadata": {
        "id": "TtfZ-IOgHfGW"
      },
      "source": [
        "a=5\n",
        "b=6\n",
        "c=a+b\n",
        "print(c)"
      ],
      "execution_count": null,
      "outputs": []
    },
    {
      "cell_type": "markdown",
      "metadata": {
        "id": "cHMpw0heNlMR"
      },
      "source": [
        "###Simple Arithmetic - Get input from User (+,-,*,%)"
      ]
    },
    {
      "cell_type": "code",
      "metadata": {
        "id": "Vhx4KcUBKOh2"
      },
      "source": [
        "a = float(input(\"Enter the value of a: \"))\n",
        "b = float(input(\"Enter the value of b: \"))\n",
        "add=a+b\n",
        "print(add)"
      ],
      "execution_count": null,
      "outputs": []
    },
    {
      "cell_type": "code",
      "metadata": {
        "id": "bKxsuv-pNpQe"
      },
      "source": [
        "a = int(input(\"Enter the value of a: \"))\n",
        "b = int(input(\"Enter the value of b: \"))\n",
        "add=a+b\n",
        "sub=a-b\n",
        "mult=a*b\n",
        "div=a/b\n",
        "mod=a%b\n",
        "print(\"ADD:\",add)\n",
        "print(\"Sum: {0}, Diff: {1}, Mult: {2}, Div:{3}, Mod:{4}\".format(add,sub,mult,div,mod)) #Print using Format"
      ],
      "execution_count": null,
      "outputs": []
    },
    {
      "cell_type": "code",
      "metadata": {
        "id": "IjSJ9cjeJSKg"
      },
      "source": [
        "print(\"Sum: %d, Diff: %d, Mult: %d, Div:%15.6f, Mod:%d\"%(add,sub,mult,div,mod)) #Print using PADDING & PRECISION"
      ],
      "execution_count": null,
      "outputs": []
    },
    {
      "cell_type": "code",
      "metadata": {
        "id": "HOKG86Pmd2Jz"
      },
      "source": [
        "print('{0:<4} | {1:^4} | {2:^4} | {3:>4}'.format('Sum','Diff','Mult','Div'))\n",
        "print('{0:<4} | {1:^4} | {2:^4} | {3:>4}'.format(add,sub,mult,div))"
      ],
      "execution_count": null,
      "outputs": []
    },
    {
      "cell_type": "markdown",
      "metadata": {
        "id": "qmmK4KwfS-2c"
      },
      "source": [
        "###Simple Arithmetic - Get input from User (power)"
      ]
    },
    {
      "cell_type": "code",
      "metadata": {
        "id": "8Lbkg5sBTQfB"
      },
      "source": [
        "a=2\n",
        "b=3\n",
        "power=a**b #Power\n",
        "print(power)"
      ],
      "execution_count": null,
      "outputs": []
    },
    {
      "cell_type": "markdown",
      "metadata": {
        "id": "FVME_SkfM_h8"
      },
      "source": [
        "##2. STRINGS"
      ]
    },
    {
      "cell_type": "markdown",
      "metadata": {
        "id": "Zlh0wiu_VdvU"
      },
      "source": [
        "###Create String"
      ]
    },
    {
      "cell_type": "code",
      "metadata": {
        "id": "V-1duhSmVaZY"
      },
      "source": [
        "a = 'Python'\n",
        "b = \"Bootcamp\"\n",
        "print(a+b)"
      ],
      "execution_count": null,
      "outputs": []
    },
    {
      "cell_type": "markdown",
      "metadata": {
        "id": "OrUXHr7eWFWI"
      },
      "source": [
        "###Length of String"
      ]
    },
    {
      "cell_type": "code",
      "metadata": {
        "id": "SDe_zX2FWEZn"
      },
      "source": [
        "a=\"Champ\"\n",
        "print(len(a))"
      ],
      "execution_count": null,
      "outputs": []
    },
    {
      "cell_type": "code",
      "metadata": {
        "id": "e_VcXyr1YdSW"
      },
      "source": [
        "a=\"S\"\n",
        "b=a*5\n",
        "print(b)"
      ],
      "execution_count": null,
      "outputs": []
    },
    {
      "cell_type": "markdown",
      "metadata": {
        "id": "C_SUK4nhWf0v"
      },
      "source": [
        "###String Index "
      ]
    },
    {
      "cell_type": "code",
      "metadata": {
        "id": "aV0n3FvMWlgl"
      },
      "source": [
        "a=\"champ\"\n",
        "print(a[3]) #identifing the element based on index\n",
        "print(a[2:]) #Grab the remaing elements except upto the Index\n",
        "print(a[:2]) #Grab the elements upto the Index\n",
        "print(a[-1]) #Grab the Last element\n",
        "print(a[:-1]) #Grab the elements except last element\n",
        "print(a[::2]) #Grab everything with 2 steps\n",
        "print(a[::-1]) #Print string backwards"
      ],
      "execution_count": null,
      "outputs": []
    },
    {
      "cell_type": "markdown",
      "metadata": {
        "id": "1Ikxg5ypYumu"
      },
      "source": [
        "###String Functions"
      ]
    },
    {
      "cell_type": "code",
      "metadata": {
        "id": "0kuA2ylZYwpO"
      },
      "source": [
        "a=\"Master Class\"\n",
        "print(a.upper()) #Changing to Upper case\n",
        "print(a.lower()) #Changing to Lowerb= a.split() case"
      ],
      "execution_count": null,
      "outputs": []
    },
    {
      "cell_type": "code",
      "metadata": {
        "id": "IARDq5yVdp8a"
      },
      "source": [
        "b= a.split() #Splitting String\n",
        "print(b)\n",
        "print(b[1]) #Printing the splitting string based on Index"
      ],
      "execution_count": null,
      "outputs": []
    },
    {
      "cell_type": "code",
      "metadata": {
        "id": "EBrFZG2eduaB"
      },
      "source": [
        "c=\"ElonMusk,SteveJobs,BillGates\"\n",
        "d=c.split(\",\") #Splitting string based on Delimitter\n",
        "print(d)\n",
        "print(d[1])"
      ],
      "execution_count": null,
      "outputs": []
    },
    {
      "cell_type": "code",
      "metadata": {
        "id": "Zx454moWeA0W"
      },
      "source": [
        "a=\"Master Class\"\n",
        "print(f\"Welcome to Python {a} !\") #Formatting string Literals"
      ],
      "execution_count": null,
      "outputs": []
    },
    {
      "cell_type": "markdown",
      "metadata": {
        "id": "2W2MF7VEex9_"
      },
      "source": [
        "##3. LIST"
      ]
    },
    {
      "cell_type": "markdown",
      "metadata": {
        "id": "HpPAYPkRfBan"
      },
      "source": [
        "###Create List"
      ]
    },
    {
      "cell_type": "code",
      "metadata": {
        "id": "bHrBdmWIezyQ"
      },
      "source": [
        "a = [1,2,3,4,5]\n",
        "b = [\"Champ\",21,99.5]\n",
        "print(a,b)\n",
        "print(len(b)) #Length of List\n",
        "print(b[0]) #Locate list element based on Index\n",
        "print(a[1:]) #print elements except 1st\n",
        "print(a[:2]) #Print elements upto 2nd element\n",
        "print(a+b) #Concatenate 2 list"
      ],
      "execution_count": null,
      "outputs": []
    },
    {
      "cell_type": "code",
      "metadata": {
        "id": "eMPl3oytgQH4"
      },
      "source": [
        "a = [1,2,3,4,5]\n",
        "a.append(6) #inserting new elements to the existing list\n",
        "print(a)"
      ],
      "execution_count": null,
      "outputs": []
    },
    {
      "cell_type": "code",
      "metadata": {
        "id": "kdK761TMhAJx"
      },
      "source": [
        "a = [1,2,3,4,5]\n",
        "a.reverse() #Reverse list\n",
        "print(a)\n",
        "print(min(a)) #Minimum\n",
        "print(max(a)) #Maximum "
      ],
      "execution_count": null,
      "outputs": []
    },
    {
      "cell_type": "code",
      "metadata": {
        "id": "UAMYYkAeAsQI"
      },
      "source": [
        "a = [1,2,3,4,5]\n",
        "from random import shuffle\n",
        "shuffle(a)\n",
        "a"
      ],
      "execution_count": null,
      "outputs": []
    },
    {
      "cell_type": "code",
      "metadata": {
        "id": "mXeXdfb3hS0L"
      },
      "source": [
        "a=[1,2,3]\n",
        "b=[4,5,6]\n",
        "c=[a,b] #Nested List Matrix\n",
        "print(c)\n",
        "print(c[0]) #Printing row\n",
        "print(c[0][0]) #Printing 1st element "
      ],
      "execution_count": null,
      "outputs": []
    },
    {
      "cell_type": "markdown",
      "metadata": {
        "id": "p9h7qc2iiA5W"
      },
      "source": [
        "##4. DICTIONARIES"
      ]
    },
    {
      "cell_type": "markdown",
      "metadata": {
        "id": "ZeI2uhJYiX_C"
      },
      "source": [
        "###Creating Dictionary : Key & Value"
      ]
    },
    {
      "cell_type": "code",
      "metadata": {
        "id": "Wth0bhfMiEyj"
      },
      "source": [
        "a = {\"Name\":\"Elon\",\"Age\":50,\"Company\":[\"SpaceX\",\"Tesla\"]}\n",
        "a"
      ],
      "execution_count": null,
      "outputs": []
    },
    {
      "cell_type": "code",
      "metadata": {
        "id": "asOL47w6icRS"
      },
      "source": [
        "a = {\"Name\":\"Elon\",\"Age\":50,\"Company\":[\"SpaceX\",\"Tesla\"]}\n",
        "print(a[\"Name\"]) #Printing value based on its Key\n",
        "a[\"Age\"]= 51 #Changing values\n",
        "a"
      ],
      "execution_count": null,
      "outputs": []
    },
    {
      "cell_type": "code",
      "metadata": {
        "id": "3VcWsp45kIgR"
      },
      "source": [
        "b={\"Climate\":{\"Condition\":{\"Temperature\":\"38 Degree\",\"Humidity\":\"70 Percentage\"}}}\n",
        "print(b[\"Climate\"][\"Condition\"][\"Humidity\"])"
      ],
      "execution_count": null,
      "outputs": []
    },
    {
      "cell_type": "code",
      "metadata": {
        "id": "eQVX7s6wk1Mv"
      },
      "source": [
        "print(a.keys()) #Printing Keys of the Dictionaries\n",
        "print(a.values()) #Printing Values of the Dictionaries\n",
        "print(a.items()) #Printing Tuple of the all items"
      ],
      "execution_count": null,
      "outputs": []
    },
    {
      "cell_type": "markdown",
      "metadata": {
        "id": "iniC2ZLGlo16"
      },
      "source": [
        "##5. TUPLES"
      ]
    },
    {
      "cell_type": "markdown",
      "metadata": {
        "id": "O7cLAnFxls8O"
      },
      "source": [
        "###Creating Tuples"
      ]
    },
    {
      "cell_type": "code",
      "metadata": {
        "id": "cOW8W-Eolq9b"
      },
      "source": [
        "a = (\"Champ\",21,99.5)\n",
        "a"
      ],
      "execution_count": null,
      "outputs": []
    },
    {
      "cell_type": "code",
      "metadata": {
        "id": "6P9GgeT1lzvb"
      },
      "source": [
        "print(len(a)) #Length of tuple\n",
        "print(a[0]) #Printing elements from tuple via index\n",
        "print(a.index(\"Champ\")) #Getting Index of Elements"
      ],
      "execution_count": null,
      "outputs": []
    },
    {
      "cell_type": "markdown",
      "metadata": {
        "id": "CPDJQZ27nBNB"
      },
      "source": [
        "##6. SETS"
      ]
    },
    {
      "cell_type": "markdown",
      "metadata": {
        "id": "9fRq2c1fnJ-q"
      },
      "source": [
        "###Creating Set"
      ]
    },
    {
      "cell_type": "code",
      "metadata": {
        "id": "mJnSp_RmnFRh"
      },
      "source": [
        "a = set()"
      ],
      "execution_count": null,
      "outputs": []
    },
    {
      "cell_type": "code",
      "metadata": {
        "id": "4Dv5syk4nPn9"
      },
      "source": [
        "a.add(\"Champ\")\n",
        "a"
      ],
      "execution_count": null,
      "outputs": []
    },
    {
      "cell_type": "code",
      "metadata": {
        "id": "oyftaYrmnYUt"
      },
      "source": [
        "a.add(30)\n",
        "a"
      ],
      "execution_count": null,
      "outputs": []
    },
    {
      "cell_type": "code",
      "metadata": {
        "id": "OSR4aGAenoAT"
      },
      "source": [
        "b = [\"Champ\",21,99.5]\n",
        "set(b)"
      ],
      "execution_count": null,
      "outputs": []
    },
    {
      "cell_type": "markdown",
      "metadata": {
        "id": "W_kyyeDnn1pv"
      },
      "source": [
        "##7. BOOLEAN"
      ]
    },
    {
      "cell_type": "markdown",
      "metadata": {
        "id": "3kzjcsHUn-RV"
      },
      "source": [
        "###Creating Boolean"
      ]
    },
    {
      "cell_type": "code",
      "metadata": {
        "id": "3PRhfVm4n4iw"
      },
      "source": [
        "a = True"
      ],
      "execution_count": null,
      "outputs": []
    },
    {
      "cell_type": "code",
      "metadata": {
        "id": "9rfOJjBboBkk"
      },
      "source": [
        "a = 10\n",
        "b = 5\n",
        "c=15\n",
        "print(a<b)\n",
        "print(a>b)\n",
        "print(a==b)\n",
        "print(a!=b)\n",
        "print(a<=b)\n",
        "print(a>=b)\n",
        "print(a<b and c>a)\n",
        "print(a<b or c>a)"
      ],
      "execution_count": null,
      "outputs": []
    },
    {
      "cell_type": "markdown",
      "metadata": {
        "id": "ouleFIQQw8bR"
      },
      "source": [
        "##8.Python Statements"
      ]
    },
    {
      "cell_type": "markdown",
      "metadata": {
        "id": "Llr9gACdx8_a"
      },
      "source": [
        "###If"
      ]
    },
    {
      "cell_type": "code",
      "metadata": {
        "id": "FVnVrqQyxckv"
      },
      "source": [
        "a = True\n",
        "if a:\n",
        "  print(\"Positive\")\n",
        "else:\n",
        "  print(\"negative\")"
      ],
      "execution_count": null,
      "outputs": []
    },
    {
      "cell_type": "code",
      "metadata": {
        "id": "21sn8ZEdz6B4"
      },
      "source": [
        "a=10\n",
        "b=6\n",
        "c=6\n",
        "\n",
        "if a<b:\n",
        "  print(\"a less than b\")\n",
        "elif c==b:\n",
        "  print(\"a is equal to b\")\n",
        "  print(\"a is not less than b\")\n",
        "  if c<a:\n",
        "    print(\"c is less than b\")\n",
        "else:\n",
        "  print(\"a is not less than b\")"
      ],
      "execution_count": null,
      "outputs": []
    },
    {
      "cell_type": "markdown",
      "metadata": {
        "id": "8PXBa4y_0Tas"
      },
      "source": [
        "###For"
      ]
    },
    {
      "cell_type": "code",
      "metadata": {
        "id": "TYnMa0YW0VAh"
      },
      "source": [
        "a = [1,2,3,4,5,6,7,8,9,10]\n",
        "for i in a:\n",
        "  print(i)"
      ],
      "execution_count": null,
      "outputs": []
    },
    {
      "cell_type": "code",
      "metadata": {
        "id": "J_dKeL7XIEOX"
      },
      "source": [
        "a = [i for i in 'Champ']\n",
        "a"
      ],
      "execution_count": null,
      "outputs": []
    },
    {
      "cell_type": "markdown",
      "metadata": {
        "id": "4jtbIiC80zKR"
      },
      "source": [
        "###Odd & Even Number"
      ]
    },
    {
      "cell_type": "code",
      "metadata": {
        "id": "IBPXEpEu025H"
      },
      "source": [
        "a = [1,2,3,4,5,6,7,8,9,10]\n",
        "for i in a:\n",
        "  if i % 2 == 0:\n",
        "    print(i,\"Even Number\")\n",
        "  else:\n",
        "    print(i,\"Odd Number\")"
      ],
      "execution_count": null,
      "outputs": []
    },
    {
      "cell_type": "markdown",
      "metadata": {
        "id": "YQr4SPiO1p1q"
      },
      "source": [
        "###String - For"
      ]
    },
    {
      "cell_type": "code",
      "metadata": {
        "id": "3eUBOYZh1s_H"
      },
      "source": [
        "for a in \"Hello all\":\n",
        "  print(a)"
      ],
      "execution_count": null,
      "outputs": []
    },
    {
      "cell_type": "markdown",
      "metadata": {
        "id": "WYtBZ7Qy19HO"
      },
      "source": [
        "###Dictionary - For"
      ]
    },
    {
      "cell_type": "code",
      "metadata": {
        "id": "wUPeD10P1_9p"
      },
      "source": [
        "a = {\"Name\":\"Elon\",\"Age\":50,\"Company\":[\"SpaceX\",\"Tesla\"]}\n",
        "for k,v in a.items():\n",
        "  print(k)\n",
        "  print(v)"
      ],
      "execution_count": null,
      "outputs": []
    },
    {
      "cell_type": "markdown",
      "metadata": {
        "id": "mX5M0Iub2lqm"
      },
      "source": [
        "###While"
      ]
    },
    {
      "cell_type": "code",
      "metadata": {
        "id": "giMPJG_Z2nnN"
      },
      "source": [
        "a=0\n",
        "while a <11:\n",
        "  print(a)\n",
        "  a+=1 #a=a+1"
      ],
      "execution_count": null,
      "outputs": []
    },
    {
      "cell_type": "markdown",
      "metadata": {
        "id": "mTt9y0-B5f_4"
      },
      "source": [
        "### While - Break & Continue"
      ]
    },
    {
      "cell_type": "code",
      "metadata": {
        "id": "Xzqk3wpc5Nvo"
      },
      "source": [
        "a=0\n",
        "while a < 10:\n",
        "  print(a)\n",
        "  a+=1\n",
        "  if a==5:\n",
        "    print(\"a is equal to 5\")\n",
        "    break\n",
        "  else:\n",
        "    print(\"Continueeee\")\n",
        "    continue"
      ],
      "execution_count": null,
      "outputs": []
    },
    {
      "cell_type": "markdown",
      "metadata": {
        "id": "eG0qdlq92W8g"
      },
      "source": [
        "###Range"
      ]
    },
    {
      "cell_type": "code",
      "metadata": {
        "id": "WnACQSNc2Z9X"
      },
      "source": [
        "for a in range (6):\n",
        "  print(a)"
      ],
      "execution_count": null,
      "outputs": []
    },
    {
      "cell_type": "code",
      "metadata": {
        "id": "rw8UgmgP56NY"
      },
      "source": [
        "for a in range (1,10,1):\n",
        "  print(a)"
      ],
      "execution_count": null,
      "outputs": []
    },
    {
      "cell_type": "code",
      "metadata": {
        "id": "c3WrFlKy6BtS"
      },
      "source": [
        "for a in range (10,0,-3):\n",
        "  print(a)"
      ],
      "execution_count": null,
      "outputs": []
    },
    {
      "cell_type": "code",
      "metadata": {
        "id": "RhySC28sSmf-"
      },
      "source": [
        "a = [i**2 for i in range(0,5)]\n",
        "a"
      ],
      "execution_count": null,
      "outputs": []
    },
    {
      "cell_type": "code",
      "metadata": {
        "id": "CiACxsUxTBJn"
      },
      "source": [
        "a = [i for i in range(10) if i % 2 == 0]\n",
        "a"
      ],
      "execution_count": null,
      "outputs": []
    },
    {
      "cell_type": "markdown",
      "metadata": {
        "id": "N03agy3C6GGH"
      },
      "source": [
        "### Enumerate - To track no. of iteration in the loop, without working with variable increament "
      ]
    },
    {
      "cell_type": "code",
      "metadata": {
        "id": "9AL5CLTl6K7Z"
      },
      "source": [
        "a=0\n",
        "for i,a in enumerate(\"Hello Champ\"):\n",
        "  print(i,a)"
      ],
      "execution_count": null,
      "outputs": []
    },
    {
      "cell_type": "markdown",
      "metadata": {
        "id": "a6ZRJmEw7QTi"
      },
      "source": [
        "### Zip - Creating a tuples by zipping 2 list"
      ]
    },
    {
      "cell_type": "code",
      "metadata": {
        "id": "1dXD3Juc8fdv"
      },
      "source": [
        "a = [\"Name\",\"Age\",\"Country\"]\n",
        "b = [\"Champ\",27,\"India\"]\n",
        "list(zip(a,b))"
      ],
      "execution_count": null,
      "outputs": []
    },
    {
      "cell_type": "markdown",
      "metadata": {
        "id": "ojYkLiPMk3O-"
      },
      "source": [
        "##9. Function"
      ]
    },
    {
      "cell_type": "markdown",
      "metadata": {
        "id": "W4ON4k_lk9ZZ"
      },
      "source": [
        "###Initializing & Calling basic function"
      ]
    },
    {
      "cell_type": "code",
      "metadata": {
        "id": "WnctQ-L7lBut"
      },
      "source": [
        "def welcome():\n",
        "  print(\"Hello guyz Welcome to Python Bootcamp !!!\")"
      ],
      "execution_count": null,
      "outputs": []
    },
    {
      "cell_type": "code",
      "metadata": {
        "id": "ipA0VzrylM6o"
      },
      "source": [
        "welcome()"
      ],
      "execution_count": null,
      "outputs": []
    },
    {
      "cell_type": "markdown",
      "metadata": {
        "id": "52_g9IUblccX"
      },
      "source": [
        "###Initializing & Calling basic function - With Argument"
      ]
    },
    {
      "cell_type": "code",
      "metadata": {
        "id": "UPIgpDmEluT8"
      },
      "source": [
        "def welcome(a):\n",
        "  print(\"Hello {0},Welcome to Python Bootcamp !!!\".format(a))"
      ],
      "execution_count": null,
      "outputs": []
    },
    {
      "cell_type": "code",
      "metadata": {
        "id": "d3EviR9ZmEUz"
      },
      "source": [
        "welcome(\"Champ\")"
      ],
      "execution_count": null,
      "outputs": []
    },
    {
      "cell_type": "markdown",
      "metadata": {
        "id": "QRemRrSpmTW2"
      },
      "source": [
        "###Print & Return"
      ]
    },
    {
      "cell_type": "code",
      "metadata": {
        "id": "GK-KiW9emVCX"
      },
      "source": [
        "def add(a,b):\n",
        "  add = a+b\n",
        "  print(\"Sum of {0} and {1} is {2}\".format(a,b,add))"
      ],
      "execution_count": null,
      "outputs": []
    },
    {
      "cell_type": "code",
      "metadata": {
        "id": "RvSD3iq9nBPN"
      },
      "source": [
        "def addR(a,b):\n",
        "  add = a+b\n",
        "  return add"
      ],
      "execution_count": null,
      "outputs": []
    },
    {
      "cell_type": "code",
      "metadata": {
        "id": "rC2YO9hgmyu2"
      },
      "source": [
        "ans = addR(45,5)\n",
        "final = ans*500\n",
        "final"
      ],
      "execution_count": null,
      "outputs": []
    },
    {
      "cell_type": "markdown",
      "metadata": {
        "id": "z3K7AfUoo_ov"
      },
      "source": [
        "## Practice Project - Extracting Prime no."
      ]
    },
    {
      "cell_type": "code",
      "metadata": {
        "id": "FiqX54lLpHx7"
      },
      "source": [
        "def check(numbers):\n",
        "    primeNumber = []\n",
        "    for number in numbers:\n",
        "      if number>1:\n",
        "        for i in range(2, int(number/2)+1):\n",
        "          if (number % i) == 0:#If number is divisible by any number between 2 and number / 2, it is not prime\n",
        "              print(number, \"is not a prime number\")\n",
        "              break\n",
        "        else:\n",
        "          print(number, \"is a prime number\")\n",
        "          primeNumber.append(number)\n",
        "      else:\n",
        "        pass\n",
        "    return primeNumber"
      ],
      "execution_count": null,
      "outputs": []
    },
    {
      "cell_type": "code",
      "metadata": {
        "id": "ffLIBac3uLkf"
      },
      "source": [
        "check([2,3,4,5,6,7,8,9])"
      ],
      "execution_count": null,
      "outputs": []
    },
    {
      "cell_type": "markdown",
      "metadata": {
        "id": "WvgDGjub0mUy"
      },
      "source": [
        "## 10 Map Function - Map a function to an iterable object"
      ]
    },
    {
      "cell_type": "code",
      "metadata": {
        "id": "K9CKz9vS0s10"
      },
      "source": [
        "def cubeFn(num):\n",
        "    return num**3"
      ],
      "execution_count": null,
      "outputs": []
    },
    {
      "cell_type": "code",
      "metadata": {
        "id": "JyvYXfSO1fOg"
      },
      "source": [
        "a = [1,2,3,4,5]\n",
        "list(map(cubeFn,a))"
      ],
      "execution_count": null,
      "outputs": []
    },
    {
      "cell_type": "markdown",
      "metadata": {
        "id": "vipXo2u627mx"
      },
      "source": [
        "##11. Filter Functions - Yields items of iterable in which function is true"
      ]
    },
    {
      "cell_type": "code",
      "metadata": {
        "id": "2INUpOMM3Imi"
      },
      "source": [
        "def evenFn(num):\n",
        "    return num % 2 == 0"
      ],
      "execution_count": null,
      "outputs": []
    },
    {
      "cell_type": "code",
      "metadata": {
        "id": "286arEjk3RgR"
      },
      "source": [
        "a = [0,1,2,3,4,5,6,7,8,9,10]\n",
        "print(list(map(evenFn,a)))\n",
        "print(list(filter(evenFn,a)))"
      ],
      "execution_count": null,
      "outputs": []
    },
    {
      "cell_type": "markdown",
      "metadata": {
        "id": "hW2mAK7F4j0B"
      },
      "source": [
        "## 12. Lambda Fn - To create anonymous functions, without using def"
      ]
    },
    {
      "cell_type": "code",
      "metadata": {
        "id": "16i6hVjF4o-L"
      },
      "source": [
        "#Normal Fn\n",
        "def cubeFn(num):\n",
        "    return num**3\n",
        "cubeFn(6)"
      ],
      "execution_count": null,
      "outputs": []
    },
    {
      "cell_type": "code",
      "metadata": {
        "id": "vKXjio_j6a6D"
      },
      "source": [
        "# LAMBDA\n",
        "cubefn = lambda num: num**3\n",
        "cubefn(5)"
      ],
      "execution_count": null,
      "outputs": []
    },
    {
      "cell_type": "markdown",
      "metadata": {
        "id": "aTYSC4UtKrE4"
      },
      "source": [
        "##13. *args and **kwargs"
      ]
    },
    {
      "cell_type": "code",
      "metadata": {
        "id": "xhT8LfhQKxyv"
      },
      "source": [
        "#Normal Fn. with Arguements\n",
        "def addR(a,b,c,d):\n",
        "  add = a+b+c\n",
        "  return add\n",
        "addR(10,20,30,40)"
      ],
      "execution_count": null,
      "outputs": []
    },
    {
      "cell_type": "code",
      "metadata": {
        "id": "vYigcSAgLS8Q"
      },
      "source": [
        "#Purpose of args\n",
        "def addR(*argg):\n",
        "  return sum(argg)\n",
        "addR(10,20,30,40,52,75,8,5,26,15)"
      ],
      "execution_count": null,
      "outputs": []
    },
    {
      "cell_type": "markdown",
      "metadata": {
        "id": "7N2de1a0MFeJ"
      },
      "source": [
        "## **Kwargs - dictionary of key/value pairs"
      ]
    },
    {
      "cell_type": "code",
      "metadata": {
        "id": "Lr5Sxec8MJ2o"
      },
      "source": [
        "def func(**kwargs):\n",
        "    if 'name' in kwargs:\n",
        "        print(\"My Name is {0}\".format(kwargs['name']))\n",
        "    if 'age' in kwargs:\n",
        "        print(\"My Age is {0}\".format(kwargs['age']))\n",
        "    else:\n",
        "        print(\"No Key Found\")\n",
        "        \n",
        "func(name='champ',age=24,marks=99)"
      ],
      "execution_count": null,
      "outputs": []
    },
    {
      "cell_type": "markdown",
      "metadata": {
        "id": "kt212XUN-uSD"
      },
      "source": [
        "## 14. Object Oriented Programming"
      ]
    },
    {
      "cell_type": "markdown",
      "metadata": {
        "id": "Pa2aHqAsJFSP"
      },
      "source": [
        "##Class"
      ]
    },
    {
      "cell_type": "markdown",
      "metadata": {
        "id": "M-LFDWU4_OVL"
      },
      "source": [
        "### User defined objects created x using Class- Initializing Class "
      ]
    },
    {
      "cell_type": "code",
      "metadata": {
        "id": "45J-c3Gb-0qm"
      },
      "source": [
        "class Student:\n",
        "  print(\"Hello All\")\n",
        "x = Student() #Object Instantiation\n",
        "print(type(x))"
      ],
      "execution_count": null,
      "outputs": []
    },
    {
      "cell_type": "code",
      "metadata": {
        "id": "-3KjafEQoC1k"
      },
      "source": [
        "class Student:\n",
        "  def func():\n",
        "    print(\"Hello all welcome to the session\")\n",
        "Student.func()"
      ],
      "execution_count": null,
      "outputs": []
    },
    {
      "cell_type": "code",
      "metadata": {
        "id": "UOyy7xRKAgAj"
      },
      "source": [
        "class Student:\n",
        "  def func(self):\n",
        "    print(\"Hello all welcome to the session\")\n",
        "x = Student()\n",
        "x.func()"
      ],
      "execution_count": null,
      "outputs": []
    },
    {
      "cell_type": "markdown",
      "metadata": {
        "id": "DmXxSeMuJ7m5"
      },
      "source": [
        "###Class Object attribute - same for any instance of the class"
      ]
    },
    {
      "cell_type": "code",
      "metadata": {
        "id": "wKr-Vc2IKJ-F"
      },
      "source": [
        "class Student:\n",
        "  year = '2021'\n",
        "  def func():\n",
        "    print(\"Hello all welcome to the session\")\n",
        "x = Student()\n",
        "x.year"
      ],
      "execution_count": null,
      "outputs": []
    },
    {
      "cell_type": "code",
      "metadata": {
        "id": "IuUoPpu7_9Dy"
      },
      "source": [
        "class Student:\n",
        "  year = '2021'\n",
        "  def func(self):\n",
        "    print(\"Hello all welcome to the session\", self.year)\n",
        "x = Student()\n",
        "x.func()"
      ],
      "execution_count": null,
      "outputs": []
    },
    {
      "cell_type": "markdown",
      "metadata": {
        "id": "J0rhBerZ_yEZ"
      },
      "source": [
        "### Attribute of an Object (characteristic of an object) Attribute won't take any argument"
      ]
    },
    {
      "cell_type": "code",
      "metadata": {
        "id": "BiaQNBOJ_3X_"
      },
      "source": [
        "class Student:\n",
        "    def __init__(self,name): #__init__ (Method) to initialize attribute of an object (Constructor)\n",
        "        self.name = name #self.name = attribute initialized\n",
        " #(Creating Instance of Student class{Object of certain class})       \n",
        "elon = Student(name='Elon Musk !') #name: argument\n",
        "\n",
        "print(elon.name) #accessing class attribute through object"
      ],
      "execution_count": null,
      "outputs": []
    },
    {
      "cell_type": "code",
      "metadata": {
        "id": "s-qEmQigH3Ej"
      },
      "source": [
        "class Student:\n",
        "    def __init__(self,name): \n",
        "        self.name = name \n",
        "elon = Student(name='Elon Musk !')\n",
        "champ = Student(name='I am Champ !')\n",
        "\n",
        "print(elon.name) \n",
        "print(champ.name)"
      ],
      "execution_count": null,
      "outputs": []
    },
    {
      "cell_type": "code",
      "metadata": {
        "id": "oQKTzI4fIA1S"
      },
      "source": [
        "class Student:\n",
        "    def __init__(self,name,age): \n",
        "        self.name = name \n",
        "        self.age = age\n",
        "elon = Student(name='Elon Musk !',age=40) \n",
        "\n",
        "print(elon.name)\n",
        "print(elon.age)"
      ],
      "execution_count": null,
      "outputs": []
    },
    {
      "cell_type": "code",
      "metadata": {
        "id": "_1cWnX5kLSAp"
      },
      "source": [
        "class Student:\n",
        "    Total = 500\n",
        "\n",
        "    def __init__(self, marks):\n",
        "        self.marks=marks\n",
        "        print(\"Initialized...\")\n",
        "\n",
        "    def findLoss(self):\n",
        "        return self.Total - self.marks\n",
        "\n",
        "    def findPercentage(self):\n",
        "        return self.marks/self.Total*100\n",
        "        \n",
        "a = Student(marks=450)\n",
        "\n",
        "print('Total Marks: ',a.Total)\n",
        "print('Lossed Marks: ',a.findLoss())\n",
        "print('Percentage is: ',a.findPercentage())"
      ],
      "execution_count": null,
      "outputs": []
    },
    {
      "cell_type": "markdown",
      "metadata": {
        "id": "XrfoEB_4Suri"
      },
      "source": [
        "##Special Methods"
      ]
    },
    {
      "cell_type": "code",
      "metadata": {
        "id": "wwTH6ilFStgx"
      },
      "source": [
        "class Student:\n",
        "    Total = 500\n",
        "\n",
        "    def __init__(self, name,marks,gender):\n",
        "        self.name=name\n",
        "        self.marks=marks\n",
        "        self.gender=gender\n",
        "        print(\"Initialized...\")\n",
        "\n",
        "    def __len__(self):\n",
        "        return self.marks\n",
        "\n",
        "    def __str__(self):\n",
        "        return \"Name: %s | Marks: %s | Gender: %s\" %(self.name,self.marks,self.gender)\n",
        "\n",
        "    def __del__(self):\n",
        "        print(\"Student Database is Deleted\")\n",
        "        \n",
        "a = Student('champ',450,'male')\n",
        "\n",
        "print(a)\n",
        "print('Marks: ',len(a))\n",
        "del a"
      ],
      "execution_count": null,
      "outputs": []
    },
    {
      "cell_type": "markdown",
      "metadata": {
        "id": "0yrDcQ_yJIxl"
      },
      "source": [
        "##Inheritance - Help to reduce complexity of the program"
      ]
    },
    {
      "cell_type": "markdown",
      "metadata": {
        "id": "AUUJrN0yJRBC"
      },
      "source": [
        "Base Class & Derived Class\n"
      ]
    },
    {
      "cell_type": "code",
      "metadata": {
        "id": "bmaq1VAKJK1f"
      },
      "source": [
        "class Elon:\n",
        "    def __init__(self):\n",
        "        print(\"Profile created\")\n",
        "\n",
        "    def name(self):\n",
        "        print(\"Elon Musk\")\n",
        "\n",
        "    def age(self):\n",
        "        print(\"40\")\n",
        "\n",
        "\n",
        "class SpaceX(Elon):\n",
        "    def __init__(self):\n",
        "        Elon.__init__(self)\n",
        "        print(\"Company Profile created\")\n",
        "\n",
        "    def name(self):\n",
        "        print(\"SpaceX\")\n",
        "\n",
        "    def type(self):\n",
        "        print(\"Private Space travel\")"
      ],
      "execution_count": null,
      "outputs": []
    },
    {
      "cell_type": "code",
      "metadata": {
        "id": "Wq8SsopaKpMj"
      },
      "source": [
        "a = SpaceX()"
      ],
      "execution_count": null,
      "outputs": []
    },
    {
      "cell_type": "code",
      "metadata": {
        "id": "UralpbdlKybr"
      },
      "source": [
        "a.name() #Derived class modified behavior of base class"
      ],
      "execution_count": null,
      "outputs": []
    },
    {
      "cell_type": "code",
      "metadata": {
        "id": "lXR_EqHrLL7K"
      },
      "source": [
        "a.age()"
      ],
      "execution_count": null,
      "outputs": []
    },
    {
      "cell_type": "markdown",
      "metadata": {
        "id": "2UBoH4JCNR8P"
      },
      "source": [
        "##Polymorphism"
      ]
    },
    {
      "cell_type": "markdown",
      "metadata": {
        "id": "fWnouhhkN7Hj"
      },
      "source": [
        "Different object classes can share the same method name, and those methods can be called from the same place even though a different objects passed in"
      ]
    },
    {
      "cell_type": "code",
      "metadata": {
        "id": "DmVx8KIFNUfo"
      },
      "source": [
        "class Elon:\n",
        "    def __init__(self,name):\n",
        "        self.name = name\n",
        "    def type(self):\n",
        "        return \"Entrepreneur\"\n",
        "class Sundar:\n",
        "    def __init__(self,name):\n",
        "        self.name = name\n",
        "    def type(self):\n",
        "        return \"CEO\"\n",
        "          \n",
        "person1 = Elon('Elon Musk') #name: argument\n",
        "person2 = Sundar('Sundar Pichai')"
      ],
      "execution_count": null,
      "outputs": []
    },
    {
      "cell_type": "code",
      "metadata": {
        "id": "kog_vsA9Qf70"
      },
      "source": [
        "#returning unique result of object which have same method(type)\n",
        "print(person1.type())\n",
        "print(person2.type())"
      ],
      "execution_count": null,
      "outputs": []
    },
    {
      "cell_type": "code",
      "metadata": {
        "id": "UINc_PX7RC3f"
      },
      "source": [
        "for i in [person1,person2]:\n",
        "  print(i.name)\n",
        "  print(i.type())\n",
        "  print(\"**************\")"
      ],
      "execution_count": null,
      "outputs": []
    },
    {
      "cell_type": "markdown",
      "metadata": {
        "id": "hj5uLu9lxpBB"
      },
      "source": [
        "## 15 Python Decorators - functions which modify the functionality of another function/Class\n"
      ]
    },
    {
      "cell_type": "code",
      "metadata": {
        "id": "rmVUsEmkXGp_"
      },
      "source": [
        "'''@decName\n",
        "def func():\n",
        "    print(\"statement\")\n",
        "\n",
        "EQUAL TO\n",
        "\n",
        "def func():\n",
        "    print(\"statement\")\n",
        "    \n",
        "func = decName(func)'''"
      ],
      "execution_count": null,
      "outputs": []
    },
    {
      "cell_type": "markdown",
      "metadata": {
        "id": "LbycyEK38MZU"
      },
      "source": [
        "###FUNCTION AS OBJECT"
      ]
    },
    {
      "cell_type": "code",
      "metadata": {
        "id": "6n2wj25Tx2qU"
      },
      "source": [
        "def welcome(a):\n",
        "  print(\"Hello {0},Welcome to Python Bootcamp !!!\".format(a))"
      ],
      "execution_count": null,
      "outputs": []
    },
    {
      "cell_type": "code",
      "metadata": {
        "id": "0e8Dyjrl0dHY"
      },
      "source": [
        "a = welcome #No paranthesis, if its paranthesis it will call fn. - FUNCTION AS OBJECT\n",
        "a(\"champ\")"
      ],
      "execution_count": null,
      "outputs": []
    },
    {
      "cell_type": "markdown",
      "metadata": {
        "id": "ezAqYdm78PAm"
      },
      "source": [
        "###FUNCTION IN VARIABLE"
      ]
    },
    {
      "cell_type": "code",
      "metadata": {
        "id": "T_tNX4BW1THH"
      },
      "source": [
        "def lowerCase(text):\n",
        "  return text.lower()\n",
        "\n",
        "def upperCase(text):\n",
        "  return text.upper()\n",
        "\n",
        "def a(welcome):\n",
        "  message = welcome(\"Hello all, Welcome to Python Bootcamp\") #FUNCTION IN VARIABLE\n",
        "  print(message)\n",
        "\n",
        "a(lowerCase)\n",
        "a(upperCase)"
      ],
      "execution_count": null,
      "outputs": []
    },
    {
      "cell_type": "code",
      "metadata": {
        "id": "CgIODbI3E9EN"
      },
      "source": [
        "def lowerCase(text):\n",
        "  return text.lower()\n",
        "\n",
        "def a(welcome):\n",
        "  message = welcome(\"Hello all, Welcome to Python Bootcamp\") #FUNCTION IN VARIABLE\n",
        "  print(message)\n",
        "\n",
        "a(lowerCase)"
      ],
      "execution_count": null,
      "outputs": []
    },
    {
      "cell_type": "markdown",
      "metadata": {
        "id": "v_hTj9qG8Skj"
      },
      "source": [
        "###RETURNING FUNCTION FROM ANOTHER FUNCTION"
      ]
    },
    {
      "cell_type": "code",
      "metadata": {
        "id": "IqqYHx4f8s4T"
      },
      "source": [
        "def addMain(a):#child\n",
        "  def addSub(b): #parent  = a+b\n",
        "    print(a,b)\n",
        "    return a+b #apple\n",
        "  return addSub #return of parent is return of child now - apple {child = return(parent)}\n",
        "\n",
        "addition = addMain(100)\n",
        "print(addition(75))"
      ],
      "execution_count": null,
      "outputs": []
    },
    {
      "cell_type": "markdown",
      "metadata": {
        "id": "SCgrfJN4-w0X"
      },
      "source": [
        "##DECORATORS in Action"
      ]
    },
    {
      "cell_type": "code",
      "metadata": {
        "id": "7Roeq7vu-1Sq"
      },
      "source": [
        "def decoratorFunc (welcome):#2. Decorator\n",
        "  def a(): #3. can access the outer local functions like in this case \"welcome\"\n",
        "    print(\"Start\")\n",
        "    welcome() #4.calling actual fn.\n",
        "    print(\"End\")\n",
        "  return a\n",
        "\n",
        "def subFunc(): #veg with cheese\n",
        "  print(\"Sub fn\")\n",
        "\n",
        "subFunc = decoratorFunc(subFunc) #1. subFunc inside the decorator to control behavior\n",
        "\n",
        "subFunc()"
      ],
      "execution_count": null,
      "outputs": []
    },
    {
      "cell_type": "markdown",
      "metadata": {
        "id": "4cJ1b9xUGoqG"
      },
      "source": [
        "## 16 Python Generators -  to generate as we go along, instead of holding everything in memory & generator functions will automatically suspend and resume their execution and state around the last point of value generation | n. This feature is known as state suspension"
      ]
    },
    {
      "cell_type": "code",
      "metadata": {
        "id": "qOibAFehHhmS"
      },
      "source": [
        "def square(n):\n",
        "  for i in range (n):\n",
        "    yield i**2"
      ],
      "execution_count": null,
      "outputs": []
    },
    {
      "cell_type": "code",
      "metadata": {
        "id": "6h84--3DJqTk"
      },
      "source": [
        "for n in square(10):\n",
        "  print(n)"
      ],
      "execution_count": null,
      "outputs": []
    },
    {
      "cell_type": "markdown",
      "metadata": {
        "id": "Wziel_TgK-jG"
      },
      "source": [
        "###Builtin Function - next"
      ]
    },
    {
      "cell_type": "code",
      "metadata": {
        "id": "CwvkQQPbLEwN"
      },
      "source": [
        "def square():\n",
        "  for i in range (n):\n",
        "    yield i**2"
      ],
      "execution_count": null,
      "outputs": []
    },
    {
      "cell_type": "code",
      "metadata": {
        "id": "eTTYwEdhLNk_"
      },
      "source": [
        "a = square()"
      ],
      "execution_count": null,
      "outputs": []
    },
    {
      "cell_type": "code",
      "metadata": {
        "id": "qfsEwjwWLYfh"
      },
      "source": [
        "print(next(a)) #After yielding all the values next() caused a StopIteration error"
      ],
      "execution_count": null,
      "outputs": []
    },
    {
      "cell_type": "markdown",
      "metadata": {
        "id": "HsJa6C1_LzuY"
      },
      "source": [
        "###Builtin Function - iter"
      ]
    },
    {
      "cell_type": "code",
      "metadata": {
        "id": "FTTe2u7xL1dD"
      },
      "source": [
        "a = \"champ\"\n",
        "for i in a:\n",
        "  print(i)"
      ],
      "execution_count": null,
      "outputs": []
    },
    {
      "cell_type": "code",
      "metadata": {
        "id": "Vv24I6zvMf8X"
      },
      "source": [
        "next(a)"
      ],
      "execution_count": null,
      "outputs": []
    },
    {
      "cell_type": "code",
      "metadata": {
        "id": "CaVdaFTzMB50"
      },
      "source": [
        "iterOper = iter(a) "
      ],
      "execution_count": null,
      "outputs": []
    },
    {
      "cell_type": "code",
      "metadata": {
        "id": "hGk7nv1zMLMK"
      },
      "source": [
        "next(iterOper)"
      ],
      "execution_count": null,
      "outputs": []
    },
    {
      "cell_type": "markdown",
      "metadata": {
        "id": "E52xY7QdwRbn"
      },
      "source": [
        "## 17 Python Modules & Libraries"
      ]
    },
    {
      "cell_type": "markdown",
      "metadata": {
        "id": "xbZKFpbT2oq7"
      },
      "source": [
        "###Accessing one Python program from another program"
      ]
    },
    {
      "cell_type": "code",
      "metadata": {
        "id": "zMIj2I-K2tzf"
      },
      "source": [
        "import main #importing python file\n",
        "main.welcome() #parathesis (Func)\n",
        "x = main.a #no paranthesis (variable)\n",
        "y = main.b\n",
        "print(x+y)"
      ],
      "execution_count": null,
      "outputs": []
    },
    {
      "cell_type": "markdown",
      "metadata": {
        "id": "mWixozKc3ix7"
      },
      "source": [
        "### Accessing python program from another Python program present in another Folder"
      ]
    },
    {
      "cell_type": "code",
      "metadata": {
        "id": "nfVl0SOb3oCt"
      },
      "source": [
        "from sample_data.demo import main\n",
        "main.welcome()\n",
        "x = main.a\n",
        "y = main.b\n",
        "print(x+y)"
      ],
      "execution_count": null,
      "outputs": []
    },
    {
      "cell_type": "markdown",
      "metadata": {
        "id": "aBSMV2jE4jzm"
      },
      "source": [
        "##Try Except Finally"
      ]
    },
    {
      "cell_type": "markdown",
      "metadata": {
        "id": "GCLNC9dG6sYy"
      },
      "source": [
        "###Base Exception Errors"
      ]
    },
    {
      "cell_type": "code",
      "metadata": {
        "id": "gnDHaveg6q4c"
      },
      "source": [
        "BaseException\n",
        " +-- SystemExit\n",
        " +-- KeyboardInterrupt\n",
        " +-- GeneratorExit\n",
        " +-- Exception\n",
        "      +-- StopIteration\n",
        "      +-- StandardError\n",
        "      |    +-- BufferError\n",
        "      |    +-- ArithmeticError\n",
        "      |    |    +-- FloatingPointError\n",
        "      |    |    +-- OverflowError\n",
        "      |    |    +-- ZeroDivisionError\n",
        "      |    +-- AssertionError\n",
        "      |    +-- AttributeError\n",
        "      |    +-- EnvironmentError\n",
        "      |    |    +-- IOError\n",
        "      |    |    +-- OSError\n",
        "      |    |         +-- WindowsError (Windows)\n",
        "      |    |         +-- VMSError (VMS)\n",
        "      |    +-- EOFError\n",
        "      |    +-- ImportError\n",
        "      |    +-- LookupError\n",
        "      |    |    +-- IndexError\n",
        "      |    |    +-- KeyError\n",
        "      |    +-- MemoryError\n",
        "      |    +-- NameError\n",
        "      |    |    +-- UnboundLocalError\n",
        "      |    +-- ReferenceError\n",
        "      |    +-- RuntimeError\n",
        "      |    |    +-- NotImplementedError\n",
        "      |    +-- SyntaxError\n",
        "      |    |    +-- IndentationError\n",
        "      |    |         +-- TabError\n",
        "      |    +-- SystemError\n",
        "      |    +-- TypeError\n",
        "      |    +-- ValueError\n",
        "      |         +-- UnicodeError\n",
        "      |              +-- UnicodeDecodeError\n",
        "      |              +-- UnicodeEncodeError\n",
        "      |              +-- UnicodeTranslateError\n",
        "      +-- Warning\n",
        "           +-- DeprecationWarning\n",
        "           +-- PendingDeprecationWarning\n",
        "           +-- RuntimeWarning\n",
        "           +-- SyntaxWarning\n",
        "           +-- UserWarning\n",
        "           +-- FutureWarning\n",
        "       +-- ImportWarning\n",
        "       +-- UnicodeWarning\n",
        "       +-- BytesWarning"
      ],
      "execution_count": null,
      "outputs": []
    },
    {
      "cell_type": "code",
      "metadata": {
        "id": "4DAcxNhE4oci"
      },
      "source": [
        "for i in range(3, -3, -1):\n",
        "    try:\n",
        "        print(1.0 / i)\n",
        "    except ZeroDivisionError:\n",
        "        print(\"You're trying to divide by zero. U IDIOT\")"
      ],
      "execution_count": null,
      "outputs": []
    },
    {
      "cell_type": "code",
      "metadata": {
        "id": "eDeJx6ns7iq4"
      },
      "source": [
        "for i in range(3, -3, -1):\n",
        "    try:\n",
        "        print(1.0 / i)\n",
        "    except ZeroDivisionError as er:\n",
        "        print('Zero Division Error: ', str(er.args[0]))"
      ],
      "execution_count": null,
      "outputs": []
    },
    {
      "cell_type": "code",
      "metadata": {
        "id": "K3M8KSae7IJT"
      },
      "source": [
        "def check():\n",
        "    while True:\n",
        "        try:\n",
        "            a = int(input(\"Please Value of a in numbers: \"))\n",
        "            b = int(input(\"Please enter value of b in numbers: \"))\n",
        "        except:\n",
        "            print(\"You did not entered numbers\")\n",
        "            continue\n",
        "        else:\n",
        "            print(\"Yes its Numbers\")\n",
        "            break\n",
        "        finally:\n",
        "            print(\"Execution Successfull\")\n",
        "            print(a+b)\n",
        "\n",
        "check()"
      ],
      "execution_count": null,
      "outputs": []
    },
    {
      "cell_type": "markdown",
      "metadata": {
        "id": "wdFoAwKcwfp5"
      },
      "source": [
        "###Importing Library"
      ]
    },
    {
      "cell_type": "code",
      "metadata": {
        "id": "RlokaL0YwXjl"
      },
      "source": [
        "import math #import libraryName"
      ],
      "execution_count": null,
      "outputs": []
    },
    {
      "cell_type": "markdown",
      "metadata": {
        "id": "QuhO5JSnwqzK"
      },
      "source": [
        "###Installing Library"
      ]
    },
    {
      "cell_type": "code",
      "metadata": {
        "id": "YaBMUw5wwtcg"
      },
      "source": [
        "!pip install imutils #pip install libraryName (! only while executing in colab, it is not needed in command window)"
      ],
      "execution_count": null,
      "outputs": []
    },
    {
      "cell_type": "markdown",
      "metadata": {
        "id": "Kk5KloZ0xDYq"
      },
      "source": [
        "###uninstalling Library"
      ]
    },
    {
      "cell_type": "code",
      "metadata": {
        "id": "yB2PWCOkxGFV"
      },
      "source": [
        "!pip uninstall imutils #pip uninstall libraryName"
      ],
      "execution_count": null,
      "outputs": []
    },
    {
      "cell_type": "code",
      "metadata": {
        "id": "4KVHdy5ZNDKM"
      },
      "source": [
        "import imutils"
      ],
      "execution_count": null,
      "outputs": []
    },
    {
      "cell_type": "markdown",
      "metadata": {
        "id": "2kPEOjcuxN7C"
      },
      "source": [
        "###Installing Library based on Version"
      ]
    },
    {
      "cell_type": "code",
      "metadata": {
        "id": "Q5ZX6pf-xWFL"
      },
      "source": [
        "!pip install imutils==0.5.4 #pip install libraryName==versionNumber"
      ],
      "execution_count": null,
      "outputs": []
    },
    {
      "cell_type": "markdown",
      "metadata": {
        "id": "NoGM1hhExfIj"
      },
      "source": [
        "###Checking Installed Library version"
      ]
    },
    {
      "cell_type": "code",
      "metadata": {
        "id": "FShc-BQJxi7M"
      },
      "source": [
        "import imutils\n",
        "imutils.__version__"
      ],
      "execution_count": null,
      "outputs": []
    },
    {
      "cell_type": "markdown",
      "metadata": {
        "id": "OyqxhF_syCcz"
      },
      "source": [
        "##Playing with Libraries"
      ]
    },
    {
      "cell_type": "markdown",
      "metadata": {
        "id": "5xbetOxzyN90"
      },
      "source": [
        "###Math Library"
      ]
    },
    {
      "cell_type": "code",
      "metadata": {
        "id": "Z1lRDZujyE9C"
      },
      "source": [
        "import math\n",
        "print(dir(math))\n",
        "print(math.pi)"
      ],
      "execution_count": null,
      "outputs": []
    },
    {
      "cell_type": "code",
      "metadata": {
        "id": "6ezIH8c1zafo"
      },
      "source": [
        "import math as mt\n",
        "print(dir(mt))\n",
        "print(mt.pi)"
      ],
      "execution_count": null,
      "outputs": []
    },
    {
      "cell_type": "markdown",
      "metadata": {
        "id": "pHBLC-t68AM7"
      },
      "source": [
        "###Reduce"
      ]
    },
    {
      "cell_type": "code",
      "metadata": {
        "id": "3YibVDLK8FQO"
      },
      "source": [
        "from functools import reduce\n",
        "lst =[47,11,42,13]\n",
        "reduce(lambda x,y: x+y,lst)"
      ],
      "execution_count": null,
      "outputs": []
    },
    {
      "cell_type": "markdown",
      "metadata": {
        "id": "KveCmBlq8O9h"
      },
      "source": [
        "###IPython"
      ]
    },
    {
      "cell_type": "code",
      "metadata": {
        "id": "PbeagwRC8U6B"
      },
      "source": [
        "from IPython.display import Image\n",
        "Image('https://venturebeat.com/wp-content/uploads/2018/09/ironman.jpg')"
      ],
      "execution_count": null,
      "outputs": []
    },
    {
      "cell_type": "markdown",
      "metadata": {
        "id": "KnqASEoR98Pg"
      },
      "source": [
        "###Filter"
      ]
    },
    {
      "cell_type": "code",
      "metadata": {
        "id": "JYKvrM4O99xy"
      },
      "source": [
        "def check(num):\n",
        "    if num%2 ==0:\n",
        "        return True\n",
        "lst =range(20)\n",
        "list(filter(check,lst))        "
      ],
      "execution_count": null,
      "outputs": []
    },
    {
      "cell_type": "markdown",
      "metadata": {
        "id": "dlTwe3t46eKA"
      },
      "source": [
        "###Counter"
      ]
    },
    {
      "cell_type": "code",
      "metadata": {
        "id": "GF2aejuq6hcL"
      },
      "source": [
        "from collections import Counter\n",
        "print(Counter([5,6,8,4,7,5,9,6,2,1,3,5,8,4,5,8,7,2,5,8,6,2,5,4,1,2,6,8,7,4,5,7,5,8,2,2,6])) #Numbers\n",
        "print(Counter('sdasdasdadasdasdasdassdasdassdasdadasdaasdasdasd')) #String"
      ],
      "execution_count": null,
      "outputs": []
    },
    {
      "cell_type": "markdown",
      "metadata": {
        "id": "9Jeq7aTs6eOw"
      },
      "source": [
        "###Regular Expression\n"
      ]
    },
    {
      "cell_type": "code",
      "metadata": {
        "id": "AUP-Ll3lPKYT"
      },
      "source": [
        "import re\n",
        "patt = r'\\d{2}-\\d{2}-\\d{4}'\n",
        "message = \"His birthday is 16-11-2016\"\n",
        "re.findall(patt,message)"
      ],
      "execution_count": null,
      "outputs": []
    },
    {
      "cell_type": "markdown",
      "metadata": {
        "id": "j-1-TPF9RD_A"
      },
      "source": [
        "###Working with Files"
      ]
    },
    {
      "cell_type": "code",
      "metadata": {
        "id": "XrYK82SaRSDS"
      },
      "source": [
        "f = open(\"welcome.txt\", \"r\")\n",
        "print(f.read())\n",
        "f.close()"
      ],
      "execution_count": null,
      "outputs": []
    },
    {
      "cell_type": "code",
      "metadata": {
        "id": "vztepQDDScAx"
      },
      "source": [
        "f = open(\"welcome.txt\", \"r\")\n",
        "print(f.read(5))\n",
        "f.close()"
      ],
      "execution_count": null,
      "outputs": []
    },
    {
      "cell_type": "code",
      "metadata": {
        "id": "OGHumZZBSgdU"
      },
      "source": [
        "f = open(\"welcome.txt\", \"r\")\n",
        "print(f.readline())\n",
        "f.close()"
      ],
      "execution_count": null,
      "outputs": []
    },
    {
      "cell_type": "code",
      "metadata": {
        "id": "lR_PppOlSl56"
      },
      "source": [
        "f = open(\"welcome.txt\", \"r\")\n",
        "for x in f:\n",
        "  print(x)"
      ],
      "execution_count": null,
      "outputs": []
    },
    {
      "cell_type": "markdown",
      "metadata": {
        "id": "CBBZKysYs7CE"
      },
      "source": [
        "###File Handling using Pandas"
      ]
    },
    {
      "cell_type": "code",
      "metadata": {
        "id": "w-a6IOV9UxqO"
      },
      "source": [
        "!pip install pandas"
      ],
      "execution_count": null,
      "outputs": []
    },
    {
      "cell_type": "code",
      "metadata": {
        "id": "b8GMBetRs99J"
      },
      "source": [
        "import pandas as pd\n",
        "data = pd.read_csv('data.csv')\n",
        "print(data.to_string()) "
      ],
      "execution_count": null,
      "outputs": []
    },
    {
      "cell_type": "code",
      "metadata": {
        "id": "Qtc0SccyuI0o"
      },
      "source": [
        "import pandas as pd\n",
        "data = pd.read_csv('data.csv')\n",
        "print(data.shape)\n",
        "print(data.describe())\n",
        "print(data.head(5)) "
      ],
      "execution_count": null,
      "outputs": []
    },
    {
      "cell_type": "markdown",
      "metadata": {
        "id": "eDhMnyS5SsEm"
      },
      "source": [
        "###Working with Directories"
      ]
    },
    {
      "cell_type": "code",
      "metadata": {
        "id": "mGPpYLZcSzCx"
      },
      "source": [
        "import os\n",
        "print(os.getcwd()) #current working directory\n",
        "print(os.listdir())\n",
        "os.mkdir(\"Junk\")"
      ],
      "execution_count": null,
      "outputs": []
    },
    {
      "cell_type": "code",
      "metadata": {
        "id": "4N4ifINbTSAB"
      },
      "source": [
        "import shutil\n",
        "shutil.move('welcome.txt','/content/Junk')"
      ],
      "execution_count": null,
      "outputs": []
    },
    {
      "cell_type": "code",
      "metadata": {
        "id": "uIv8_pXETsyx"
      },
      "source": [
        "import send2trash\n",
        "os.listdir()\n",
        "send2trash.send2trash('Junk/welcome.txt')"
      ],
      "execution_count": null,
      "outputs": []
    },
    {
      "cell_type": "code",
      "metadata": {
        "id": "sFR-2CFtT6Pq"
      },
      "source": [
        "os.listdir()"
      ],
      "execution_count": null,
      "outputs": []
    },
    {
      "cell_type": "markdown",
      "metadata": {
        "id": "v1waiSPWWgm8"
      },
      "source": [
        "###Time"
      ]
    },
    {
      "cell_type": "code",
      "metadata": {
        "id": "AIf3tBQ7WiGl"
      },
      "source": [
        "import time\n",
        "print(time.time())#time since epoch"
      ],
      "execution_count": null,
      "outputs": []
    },
    {
      "cell_type": "code",
      "metadata": {
        "id": "mwmJIjDeg3BZ"
      },
      "source": [
        "import time\n",
        "print(time.gmtime())"
      ],
      "execution_count": null,
      "outputs": []
    },
    {
      "cell_type": "code",
      "metadata": {
        "id": "S_s_KXjvg7yG"
      },
      "source": [
        "print (time.ctime())"
      ],
      "execution_count": null,
      "outputs": []
    },
    {
      "cell_type": "code",
      "metadata": {
        "id": "ey4rLSv8hVfN"
      },
      "source": [
        "startTime = time.time()\n",
        "i=0\n",
        "while(i<5):\n",
        "  i+=1\n",
        "  print(\".\")\n",
        "  time.sleep(1) #delay 1 second\n",
        "stopTime = time.time()\n",
        "diff = stopTime - startTime\n",
        "diff"
      ],
      "execution_count": null,
      "outputs": []
    },
    {
      "cell_type": "markdown",
      "metadata": {
        "id": "WK845fWpipDy"
      },
      "source": [
        "###Date & Time"
      ]
    },
    {
      "cell_type": "code",
      "metadata": {
        "id": "MjCTHaKxisDt"
      },
      "source": [
        "import datetime\n",
        "x = datetime.datetime.now()\n",
        "print(x)"
      ],
      "execution_count": null,
      "outputs": []
    },
    {
      "cell_type": "code",
      "metadata": {
        "id": "7Vjk9hi8jS3T"
      },
      "source": [
        "import datetime\n",
        "x = datetime.datetime(2021, 12, 16, 12, 30, 51) #(year, month, date, hour, minute, second, microsecond, tzone)\n",
        "print(x)"
      ],
      "execution_count": null,
      "outputs": []
    },
    {
      "cell_type": "code",
      "metadata": {
        "id": "XrBeNg1qjySc"
      },
      "source": [
        "'''%a\tWeekday, short version\tWed\t\n",
        "%A\tWeekday, full version\tWednesday\t\n",
        "%w\tWeekday as a number 0-6, 0 is Sunday\t3\t\n",
        "%d\tDay of month 01-31\t31\t\n",
        "%b\tMonth name, short version\tDec\t\n",
        "%B\tMonth name, full version\tDecember\t\n",
        "%m\tMonth as a number 01-12\t12\t\n",
        "%y\tYear, short version, without century\t18\t\n",
        "%Y\tYear, full version\t2018\t\n",
        "%H\tHour 00-23\t17\t\n",
        "%I\tHour 00-12\t05\t\n",
        "%p\tAM/PM\tPM\t\n",
        "%M\tMinute 00-59\t41\t\n",
        "%S\tSecond 00-59\t08\t\n",
        "%f\tMicrosecond 000000-999999\t548513\t\n",
        "%z\tUTC offset\t+0100\t\n",
        "%Z\tTimezone\tCST\t\n",
        "%j\tDay number of year 001-366\t365\t\n",
        "%U\tWeek number of year, Sunday as the first day of week, 00-53\t52\t\n",
        "%W\tWeek number of year, Monday as the first day of week, 00-53\t52\t\n",
        "%c\tLocal version of date and time\tMon Dec 31 17:41:00 2018\t\n",
        "%C\tCentury\t20\t\n",
        "%x\tLocal version of date\t12/31/18\t\n",
        "%X\tLocal version of time\t17:41:00\t\n",
        "%%\tA % character\t%\t\n",
        "%G\tISO 8601 year\t2018\t\n",
        "%u\tISO 8601 weekday (1-7)\t1\t\n",
        "%V\tISO 8601 weeknumber (01-53)\t01'''"
      ],
      "execution_count": null,
      "outputs": []
    },
    {
      "cell_type": "code",
      "metadata": {
        "id": "76Z-ozHkjvsG"
      },
      "source": [
        "import datetime\n",
        "a = datetime.datetime(2021, 12, 16)\n",
        "print(a.strftime(\"%a\"))"
      ],
      "execution_count": null,
      "outputs": []
    }
  ]
}